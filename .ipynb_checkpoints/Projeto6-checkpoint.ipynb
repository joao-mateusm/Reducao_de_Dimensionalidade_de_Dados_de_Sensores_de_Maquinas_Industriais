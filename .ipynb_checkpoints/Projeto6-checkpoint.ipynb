{
 "cells": [
  {
   "cell_type": "markdown",
   "id": "67e53442",
   "metadata": {},
   "source": [
    "<!-- Projeto Desenvolvido na Data Science Academy - www.datascienceacademy.com.br -->\n",
    "# <font color='blue'>Data Science Academy</font>\n",
    "## <font color='blue'>Data Science Para Análise Multivariada de Dados</font>\n",
    "## <font color='blue'>Projeto 6</font>\n",
    "### <font color='blue'>Data Science na Indústria</font>\n",
    "#### <font color='blue'>Redução de Dimensionalidade de Dados de Sensores de Máquinas Industriais Para Construção de Modelo Preditivo</font>"
   ]
  },
  {
   "cell_type": "markdown",
   "id": "4e7b4151",
   "metadata": {},
   "source": [
    "## Instalando e Carregando os Pacotes"
   ]
  },
  {
   "cell_type": "code",
   "execution_count": 1,
   "id": "f3d61a30",
   "metadata": {},
   "outputs": [],
   "source": [
    "# Para atualizar um pacote, execute o comando abaixo no terminal ou prompt de comando:\n",
    "# pip install -U nome_pacote\n",
    "\n",
    "# Para instalar a versão exata de um pacote, execute o comando abaixo no terminal ou prompt de comando:\n",
    "# !pip install nome_pacote==versão_desejada\n",
    "\n",
    "# Depois de instalar ou atualizar o pacote, reinicie o jupyter notebook.\n",
    "\n",
    "# Instala o pacote watermark. \n",
    "# Esse pacote é usado para gravar as versões de outros pacotes usados neste jupyter notebook.\n",
    "!pip install -q -U watermark"
   ]
  },
  {
   "cell_type": "code",
   "execution_count": 2,
   "id": "acef13d8",
   "metadata": {},
   "outputs": [],
   "source": [
    "# Imports\n",
    "import numpy as np\n",
    "import pandas as pd\n",
    "import sklearn\n",
    "import matplotlib.pyplot as plt\n",
    "from sklearn.preprocessing import StandardScaler\n",
    "from sklearn.decomposition import PCA\n",
    "from sklearn.model_selection import cross_val_score\n",
    "from sklearn.linear_model import LogisticRegression\n",
    "from sklearn.model_selection import LeaveOneOut\n",
    "import warnings\n",
    "warnings.filterwarnings('ignore')"
   ]
  },
  {
   "cell_type": "code",
   "execution_count": 3,
   "id": "f3d0bf50",
   "metadata": {},
   "outputs": [
    {
     "name": "stdout",
     "output_type": "stream",
     "text": [
      "Author: Data Science Academy\n",
      "\n"
     ]
    }
   ],
   "source": [
    "# Versões dos pacotes usados neste jupyter notebook\n",
    "%reload_ext watermark\n",
    "%watermark -a \"Data Science Academy\" "
   ]
  },
  {
   "cell_type": "markdown",
   "id": "712c38db",
   "metadata": {},
   "source": [
    "## Carregando e Compreendendo os Dados\n",
    "\n",
    "Primeiro, criaremos um conjunto de dados fictício com 8 características e 1000 observações usando o numpy, representando dados de sensores de máquinas industriais."
   ]
  },
  {
   "cell_type": "code",
   "execution_count": 4,
   "id": "2a3d7431",
   "metadata": {},
   "outputs": [],
   "source": [
    "# Para reprodutibilidade\n",
    "np.random.seed(42)  "
   ]
  },
  {
   "cell_type": "code",
   "execution_count": 5,
   "id": "11aa92d7",
   "metadata": {},
   "outputs": [],
   "source": [
    "# Gera os dados\n",
    "dados = np.random.randn(1000, 8)\n",
    "df_dsa = pd.DataFrame(dados, columns = [f'Atributo_{i}' for i in range(1, 9)])"
   ]
  },
  {
   "cell_type": "code",
   "execution_count": 6,
   "id": "2a5fae40",
   "metadata": {},
   "outputs": [
    {
     "data": {
      "text/plain": [
       "(1000, 8)"
      ]
     },
     "execution_count": 6,
     "metadata": {},
     "output_type": "execute_result"
    }
   ],
   "source": [
    "# Shape\n",
    "df_dsa.shape"
   ]
  },
  {
   "cell_type": "code",
   "execution_count": 7,
   "id": "4ebb3747",
   "metadata": {},
   "outputs": [
    {
     "data": {
      "text/html": [
       "<div>\n",
       "<style scoped>\n",
       "    .dataframe tbody tr th:only-of-type {\n",
       "        vertical-align: middle;\n",
       "    }\n",
       "\n",
       "    .dataframe tbody tr th {\n",
       "        vertical-align: top;\n",
       "    }\n",
       "\n",
       "    .dataframe thead th {\n",
       "        text-align: right;\n",
       "    }\n",
       "</style>\n",
       "<table border=\"1\" class=\"dataframe\">\n",
       "  <thead>\n",
       "    <tr style=\"text-align: right;\">\n",
       "      <th></th>\n",
       "      <th>Atributo_1</th>\n",
       "      <th>Atributo_2</th>\n",
       "      <th>Atributo_3</th>\n",
       "      <th>Atributo_4</th>\n",
       "      <th>Atributo_5</th>\n",
       "      <th>Atributo_6</th>\n",
       "      <th>Atributo_7</th>\n",
       "      <th>Atributo_8</th>\n",
       "    </tr>\n",
       "  </thead>\n",
       "  <tbody>\n",
       "    <tr>\n",
       "      <th>0</th>\n",
       "      <td>0.496714</td>\n",
       "      <td>-0.138264</td>\n",
       "      <td>0.647689</td>\n",
       "      <td>1.523030</td>\n",
       "      <td>-0.234153</td>\n",
       "      <td>-0.234137</td>\n",
       "      <td>1.579213</td>\n",
       "      <td>0.767435</td>\n",
       "    </tr>\n",
       "    <tr>\n",
       "      <th>1</th>\n",
       "      <td>-0.469474</td>\n",
       "      <td>0.542560</td>\n",
       "      <td>-0.463418</td>\n",
       "      <td>-0.465730</td>\n",
       "      <td>0.241962</td>\n",
       "      <td>-1.913280</td>\n",
       "      <td>-1.724918</td>\n",
       "      <td>-0.562288</td>\n",
       "    </tr>\n",
       "    <tr>\n",
       "      <th>2</th>\n",
       "      <td>-1.012831</td>\n",
       "      <td>0.314247</td>\n",
       "      <td>-0.908024</td>\n",
       "      <td>-1.412304</td>\n",
       "      <td>1.465649</td>\n",
       "      <td>-0.225776</td>\n",
       "      <td>0.067528</td>\n",
       "      <td>-1.424748</td>\n",
       "    </tr>\n",
       "    <tr>\n",
       "      <th>3</th>\n",
       "      <td>-0.544383</td>\n",
       "      <td>0.110923</td>\n",
       "      <td>-1.150994</td>\n",
       "      <td>0.375698</td>\n",
       "      <td>-0.600639</td>\n",
       "      <td>-0.291694</td>\n",
       "      <td>-0.601707</td>\n",
       "      <td>1.852278</td>\n",
       "    </tr>\n",
       "    <tr>\n",
       "      <th>4</th>\n",
       "      <td>-0.013497</td>\n",
       "      <td>-1.057711</td>\n",
       "      <td>0.822545</td>\n",
       "      <td>-1.220844</td>\n",
       "      <td>0.208864</td>\n",
       "      <td>-1.959670</td>\n",
       "      <td>-1.328186</td>\n",
       "      <td>0.196861</td>\n",
       "    </tr>\n",
       "  </tbody>\n",
       "</table>\n",
       "</div>"
      ],
      "text/plain": [
       "   Atributo_1  Atributo_2  Atributo_3  Atributo_4  Atributo_5  Atributo_6  \\\n",
       "0    0.496714   -0.138264    0.647689    1.523030   -0.234153   -0.234137   \n",
       "1   -0.469474    0.542560   -0.463418   -0.465730    0.241962   -1.913280   \n",
       "2   -1.012831    0.314247   -0.908024   -1.412304    1.465649   -0.225776   \n",
       "3   -0.544383    0.110923   -1.150994    0.375698   -0.600639   -0.291694   \n",
       "4   -0.013497   -1.057711    0.822545   -1.220844    0.208864   -1.959670   \n",
       "\n",
       "   Atributo_7  Atributo_8  \n",
       "0    1.579213    0.767435  \n",
       "1   -1.724918   -0.562288  \n",
       "2    0.067528   -1.424748  \n",
       "3   -0.601707    1.852278  \n",
       "4   -1.328186    0.196861  "
      ]
     },
     "execution_count": 7,
     "metadata": {},
     "output_type": "execute_result"
    }
   ],
   "source": [
    "# Primeiras 5 linhas\n",
    "df_dsa.head()"
   ]
  },
  {
   "cell_type": "markdown",
   "id": "c80af2e8",
   "metadata": {},
   "source": [
    "## Padronização dos Dados\n",
    "\n",
    "Nesta etapa, vamos padronizar os dados. A padronização dos dados é uma técnica de pré-processamento em Machine Learning que transforma os valores de uma variável para que tenham média zero e desvio padrão de um. Isso é especialmente útil para algoritmos que dependem da distância entre as observações ou métodos baseados em gradiente, como redes neurais, pois ajuda a melhorar a convergência durante o treinamento. O PCA requer os dados padronizados.\n",
    "\n",
    "Após a padronização, os dados resultantes têm uma média muito próxima de zero e um desvio padrão igual a um. Isso não apenas facilita a análise e o treinamento de modelos mas também ajuda a reduzir qualquer viés que possa ser introduzido por variáveis em escalas significativamente diferentes."
   ]
  },
  {
   "cell_type": "code",
   "execution_count": 8,
   "id": "a761f091",
   "metadata": {},
   "outputs": [],
   "source": [
    "# Cria o padronizador\n",
    "dsa_scaler = StandardScaler()"
   ]
  },
  {
   "cell_type": "code",
   "execution_count": 9,
   "id": "94e3a325",
   "metadata": {},
   "outputs": [],
   "source": [
    "# Aplica o padronizador\n",
    "dados_padronizados = dsa_scaler.fit_transform(df_dsa)"
   ]
  },
  {
   "cell_type": "code",
   "execution_count": 10,
   "id": "b61f5951",
   "metadata": {},
   "outputs": [
    {
     "data": {
      "text/plain": [
       "array([[ 0.50005258, -0.1079961 ,  0.69137884, ..., -0.2174599 ,\n",
       "         1.54266063,  0.72124761],\n",
       "       [-0.46570918,  0.57203085, -0.43181987, ..., -1.87318757,\n",
       "        -1.65304186, -0.57797922],\n",
       "       [-1.00882591,  0.34398554, -0.88126503, ..., -0.20921584,\n",
       "         0.08058337, -1.42066048],\n",
       "       ...,\n",
       "       [-0.98387173,  0.75229737,  0.12308532, ..., -0.48368659,\n",
       "        -0.05519563,  1.81736367],\n",
       "       [ 0.24162393, -0.8096809 ,  0.25967332, ...,  0.5858837 ,\n",
       "         1.18481977, -0.05231653],\n",
       "       [ 1.6417944 ,  0.93706544, -0.67849748, ..., -0.81006669,\n",
       "         1.61394232,  2.00153949]])"
      ]
     },
     "execution_count": 10,
     "metadata": {},
     "output_type": "execute_result"
    }
   ],
   "source": [
    "dados_padronizados"
   ]
  },
  {
   "cell_type": "markdown",
   "id": "ef2d818b",
   "metadata": {},
   "source": [
    "## Aplicando PCA às Variáveis de Entrada"
   ]
  },
  {
   "cell_type": "markdown",
   "id": "7b5ea8fe",
   "metadata": {},
   "source": [
    "https://scikit-learn.org/stable/modules/generated/sklearn.decomposition.PCA.html"
   ]
  },
  {
   "cell_type": "code",
   "execution_count": 11,
   "id": "51b79f39",
   "metadata": {},
   "outputs": [
    {
     "data": {
      "text/plain": [
       "(1000, 8)"
      ]
     },
     "execution_count": 11,
     "metadata": {},
     "output_type": "execute_result"
    }
   ],
   "source": [
    "df_dsa.shape"
   ]
  },
  {
   "cell_type": "code",
   "execution_count": 12,
   "id": "1ac0719d",
   "metadata": {},
   "outputs": [],
   "source": [
    "# Cria o modelo\n",
    "dsa_pca = PCA()"
   ]
  },
  {
   "cell_type": "code",
   "execution_count": 13,
   "id": "416352fe",
   "metadata": {},
   "outputs": [],
   "source": [
    "# Treina e aplica o modelo aos dados padronizados\n",
    "dados_pca = dsa_pca.fit_transform(dados_padronizados)"
   ]
  },
  {
   "cell_type": "code",
   "execution_count": 14,
   "id": "d08e5fec",
   "metadata": {},
   "outputs": [
    {
     "data": {
      "text/plain": [
       "array([[-1.00191225,  1.08652608,  0.70735925, ...,  0.04277897,\n",
       "         0.46090549,  1.41207008],\n",
       "       [ 1.56243282, -0.39897564, -1.94944629, ...,  0.79636812,\n",
       "         0.20001234, -0.42570692],\n",
       "       [ 1.86313495, -0.5654041 , -0.05326957, ..., -0.57754214,\n",
       "         0.87677555, -0.399163  ],\n",
       "       ...,\n",
       "       [ 1.17332664,  0.20633089,  0.01206161, ..., -1.1537082 ,\n",
       "        -0.72878039, -1.49490119],\n",
       "       [-0.52775583, -0.30376184,  1.25823946, ..., -0.48839252,\n",
       "         0.70099184,  0.11597958],\n",
       "       [ 0.18891   ,  1.76142352,  1.47240733, ...,  1.55164509,\n",
       "        -0.62971354,  2.29420302]])"
      ]
     },
     "execution_count": 14,
     "metadata": {},
     "output_type": "execute_result"
    }
   ],
   "source": [
    "dados_pca"
   ]
  },
  {
   "cell_type": "markdown",
   "id": "55627778",
   "metadata": {},
   "source": [
    "## Calculando a Matriz de Covariância\n",
    "\n",
    "No contexto do PCA, a matriz de covariância desempenha um papel vital. Para entender sua importância, vamos primeiro abordar o que ela é e como se relaciona com o PCA.\n",
    "<!-- Projeto Desenvolvido na Data Science Academy - www.datascienceacademy.com.br -->\n",
    "A matriz de covariância é uma matriz quadrada que mede a covariância entre cada par de variáveis em um conjunto de dados. Covariância, em termos simples, é uma medida de como duas variáveis variam juntas. Se ambas as variáveis tendem a aumentar ou diminuir juntas, a covariância é positiva; se uma variável tende a aumentar quando a outra diminui, a covariância é negativa; e se as variáveis não exibem qualquer tendência consistente de variação conjunta, a covariância é próxima de zero.\n",
    "\n",
    "A principal motivação por trás do PCA é reduzir a dimensionalidade de um conjunto de dados mantendo o máximo de informação possível. O PCA busca identificar \"direções\" no espaço de dados que capturam a maior variância nos dados. Essas direções são os chamados componentes principais.\n",
    "\n",
    "A relação entre a matriz de covariância e o PCA é que os componentes principais são determinados a partir dos autovetores da matriz de covariância. O primeiro componente principal é a direção (ou autovetor) que corresponde ao maior autovalor da matriz de covariância e, portanto, captura a maior variância nos dados. O segundo componente principal é a direção que captura a segunda maior variância, e assim por diante."
   ]
  },
  {
   "cell_type": "code",
   "execution_count": 15,
   "id": "a9cad773",
   "metadata": {},
   "outputs": [
    {
     "name": "stdout",
     "output_type": "stream",
     "text": [
      "[[ 1.00100100e+00 -3.69357111e-02  3.06924109e-03 -3.40509104e-02\n",
      "  -2.46119766e-02  1.71832531e-02  1.04925691e-02 -2.19223880e-02]\n",
      " [-3.69357111e-02  1.00100100e+00 -4.84707341e-02 -3.25134657e-02\n",
      "  -6.87427050e-03 -5.40529525e-02  1.51251647e-02 -2.03757820e-02]\n",
      " [ 3.06924109e-03 -4.84707341e-02  1.00100100e+00 -2.26662376e-03\n",
      "  -3.83098518e-02  2.49333208e-02 -3.98294504e-02 -8.44378492e-03]\n",
      " [-3.40509104e-02 -3.25134657e-02 -2.26662376e-03  1.00100100e+00\n",
      "  -7.38873848e-02  2.97271555e-02 -8.86529733e-03  8.37242871e-04]\n",
      " [-2.46119766e-02 -6.87427050e-03 -3.83098518e-02 -7.38873848e-02\n",
      "   1.00100100e+00 -1.17331628e-02 -2.74971107e-02  2.51417888e-02]\n",
      " [ 1.71832531e-02 -5.40529525e-02  2.49333208e-02  2.97271555e-02\n",
      "  -1.17331628e-02  1.00100100e+00  3.13041748e-02 -1.05193266e-02]\n",
      " [ 1.04925691e-02  1.51251647e-02 -3.98294504e-02 -8.86529733e-03\n",
      "  -2.74971107e-02  3.13041748e-02  1.00100100e+00  2.38964840e-02]\n",
      " [-2.19223880e-02 -2.03757820e-02 -8.44378492e-03  8.37242871e-04\n",
      "   2.51417888e-02 -1.05193266e-02  2.38964840e-02  1.00100100e+00]]\n"
     ]
    }
   ],
   "source": [
    "# Calcula a matriz de Covariância \n",
    "cov_matrix = np.cov(dados_padronizados, rowvar = False)\n",
    "print(cov_matrix)"
   ]
  },
  {
   "cell_type": "markdown",
   "id": "19c08de9",
   "metadata": {},
   "source": [
    "## Visualizando a Variância Explicada"
   ]
  },
  {
   "cell_type": "code",
   "execution_count": 16,
   "id": "fc71da55",
   "metadata": {},
   "outputs": [],
   "source": [
    "# Extrai a variância explicada\n",
    "explained_variance = dsa_pca.explained_variance_ratio_"
   ]
  },
  {
   "cell_type": "code",
   "execution_count": 17,
   "id": "6f01e777",
   "metadata": {},
   "outputs": [],
   "source": [
    "# Ajustar o range para começar de 1\n",
    "componentes = range(1, len(explained_variance) + 1)"
   ]
  },
  {
   "cell_type": "code",
   "execution_count": 18,
   "id": "768d9725",
   "metadata": {},
   "outputs": [
    {
     "data": {
      "image/png": "[encoded data removed]",
      "text/plain": [
       "<Figure size 640x480 with 1 Axes>"
      ]
     },
     "metadata": {},
     "output_type": "display_data"
    }
   ],
   "source": [
    "# Plot\n",
    "plt.bar(componentes, explained_variance)\n",
    "\n",
    "# Ajustar os ticks no eixo x\n",
    "plt.xticks(componentes)\n",
    "\n",
    "plt.xlabel('Componente Principal')\n",
    "plt.ylabel('Variância Explicada')\n",
    "plt.title('Variância Explicada por Cada Componente')\n",
    "plt.show()"
   ]
  },
  {
   "cell_type": "markdown",
   "id": "12afa3c0",
   "metadata": {},
   "source": [
    "<!-- Projeto Desenvolvido na Data Science Academy - www.datascienceacademy.com.br -->\n",
    "## Identificação e Interpretação de Cada Componente"
   ]
  },
  {
   "cell_type": "code",
   "execution_count": 19,
   "id": "a3bff886",
   "metadata": {},
   "outputs": [],
   "source": [
    "# Extraindo os componentes principais\n",
    "componentes = pd.DataFrame(dsa_pca.components_, \n",
    "                           columns = df_dsa.columns, \n",
    "                           index = [f'PC-{i}' for i in range(1, 9)])"
   ]
  },
  {
   "cell_type": "code",
   "execution_count": 20,
   "id": "ea56a232",
   "metadata": {},
   "outputs": [
    {
     "data": {
      "text/html": [
       "<div>\n",
       "<style scoped>\n",
       "    .dataframe tbody tr th:only-of-type {\n",
       "        vertical-align: middle;\n",
       "    }\n",
       "\n",
       "    .dataframe tbody tr th {\n",
       "        vertical-align: top;\n",
       "    }\n",
       "\n",
       "    .dataframe thead th {\n",
       "        text-align: right;\n",
       "    }\n",
       "</style>\n",
       "<table border=\"1\" class=\"dataframe\">\n",
       "  <thead>\n",
       "    <tr style=\"text-align: right;\">\n",
       "      <th></th>\n",
       "      <th>Atributo_1</th>\n",
       "      <th>Atributo_2</th>\n",
       "      <th>Atributo_3</th>\n",
       "      <th>Atributo_4</th>\n",
       "      <th>Atributo_5</th>\n",
       "      <th>Atributo_6</th>\n",
       "      <th>Atributo_7</th>\n",
       "      <th>Atributo_8</th>\n",
       "    </tr>\n",
       "  </thead>\n",
       "  <tbody>\n",
       "    <tr>\n",
       "      <th>PC-1</th>\n",
       "      <td>-0.196388</td>\n",
       "      <td>0.468139</td>\n",
       "      <td>-0.405046</td>\n",
       "      <td>-0.417747</td>\n",
       "      <td>0.436951</td>\n",
       "      <td>-0.448249</td>\n",
       "      <td>0.010965</td>\n",
       "      <td>0.108297</td>\n",
       "    </tr>\n",
       "    <tr>\n",
       "      <th>PC-2</th>\n",
       "      <td>-0.275254</td>\n",
       "      <td>0.406774</td>\n",
       "      <td>-0.350551</td>\n",
       "      <td>0.470875</td>\n",
       "      <td>-0.485621</td>\n",
       "      <td>-0.042320</td>\n",
       "      <td>0.420036</td>\n",
       "      <td>-0.010603</td>\n",
       "    </tr>\n",
       "    <tr>\n",
       "      <th>PC-3</th>\n",
       "      <td>0.389133</td>\n",
       "      <td>-0.176295</td>\n",
       "      <td>-0.305869</td>\n",
       "      <td>-0.250275</td>\n",
       "      <td>0.137979</td>\n",
       "      <td>0.371768</td>\n",
       "      <td>0.654928</td>\n",
       "      <td>0.274085</td>\n",
       "    </tr>\n",
       "    <tr>\n",
       "      <th>PC-4</th>\n",
       "      <td>0.542503</td>\n",
       "      <td>0.297805</td>\n",
       "      <td>0.009931</td>\n",
       "      <td>-0.296110</td>\n",
       "      <td>-0.291527</td>\n",
       "      <td>-0.101594</td>\n",
       "      <td>0.043470</td>\n",
       "      <td>-0.657285</td>\n",
       "    </tr>\n",
       "    <tr>\n",
       "      <th>PC-5</th>\n",
       "      <td>-0.263291</td>\n",
       "      <td>-0.017466</td>\n",
       "      <td>-0.357604</td>\n",
       "      <td>0.145364</td>\n",
       "      <td>0.401602</td>\n",
       "      <td>0.537062</td>\n",
       "      <td>-0.112864</td>\n",
       "      <td>-0.564716</td>\n",
       "    </tr>\n",
       "    <tr>\n",
       "      <th>PC-6</th>\n",
       "      <td>0.446916</td>\n",
       "      <td>-0.310198</td>\n",
       "      <td>-0.585621</td>\n",
       "      <td>0.388296</td>\n",
       "      <td>0.030855</td>\n",
       "      <td>-0.316280</td>\n",
       "      <td>-0.325487</td>\n",
       "      <td>0.058223</td>\n",
       "    </tr>\n",
       "    <tr>\n",
       "      <th>PC-7</th>\n",
       "      <td>-0.265614</td>\n",
       "      <td>-0.548444</td>\n",
       "      <td>0.058386</td>\n",
       "      <td>-0.008642</td>\n",
       "      <td>0.092213</td>\n",
       "      <td>-0.495751</td>\n",
       "      <td>0.462134</td>\n",
       "      <td>-0.396654</td>\n",
       "    </tr>\n",
       "    <tr>\n",
       "      <th>PC-8</th>\n",
       "      <td>0.316742</td>\n",
       "      <td>0.313520</td>\n",
       "      <td>0.380994</td>\n",
       "      <td>0.530533</td>\n",
       "      <td>0.546333</td>\n",
       "      <td>-0.120463</td>\n",
       "      <td>0.245726</td>\n",
       "      <td>-0.037217</td>\n",
       "    </tr>\n",
       "  </tbody>\n",
       "</table>\n",
       "</div>"
      ],
      "text/plain": [
       "      Atributo_1  Atributo_2  Atributo_3  Atributo_4  Atributo_5  Atributo_6  \\\n",
       "PC-1   -0.196388    0.468139   -0.405046   -0.417747    0.436951   -0.448249   \n",
       "PC-2   -0.275254    0.406774   -0.350551    0.470875   -0.485621   -0.042320   \n",
       "PC-3    0.389133   -0.176295   -0.305869   -0.250275    0.137979    0.371768   \n",
       "PC-4    0.542503    0.297805    0.009931   -0.296110   -0.291527   -0.101594   \n",
       "PC-5   -0.263291   -0.017466   -0.357604    0.145364    0.401602    0.537062   \n",
       "PC-6    0.446916   -0.310198   -0.585621    0.388296    0.030855   -0.316280   \n",
       "PC-7   -0.265614   -0.548444    0.058386   -0.008642    0.092213   -0.495751   \n",
       "PC-8    0.316742    0.313520    0.380994    0.530533    0.546333   -0.120463   \n",
       "\n",
       "      Atributo_7  Atributo_8  \n",
       "PC-1    0.010965    0.108297  \n",
       "PC-2    0.420036   -0.010603  \n",
       "PC-3    0.654928    0.274085  \n",
       "PC-4    0.043470   -0.657285  \n",
       "PC-5   -0.112864   -0.564716  \n",
       "PC-6   -0.325487    0.058223  \n",
       "PC-7    0.462134   -0.396654  \n",
       "PC-8    0.245726   -0.037217  "
      ]
     },
     "execution_count": 20,
     "metadata": {},
     "output_type": "execute_result"
    }
   ],
   "source": [
    "componentes"
   ]
  },
  {
   "cell_type": "markdown",
   "id": "d8a4fad7",
   "metadata": {},
   "source": [
    "A tabela acima mostra os coeficientes (ou cargas) de cada componente principal em relação a cada um dos atributos originais (Atributo_1, Atributo_2, etc.). Cada linha (PC-1, PC-2, etc.) representa um componente principal, e cada valor na linha indica a contribuição relativa de cada atributo original para esse componente principal. Aqui está como você pode interpretar esses valores:\n",
    "\n",
    "**PC-1, PC-2, ..., PC-8**: Estes são os componentes principais obtidos da PCA. Cada componente é uma combinação linear dos atributos originais.\n",
    "\n",
    "**Valores na tabela (por exemplo, para PC-1: -0.196388 para Atributo_1, 0.468139 para Atributo_2, etc.)**: Esses números mostram como cada atributo original contribui para o componente principal correspondente. Um valor alto (positivo ou negativo) indica uma contribuição significativa desse atributo ao componente principal, enquanto um valor próximo de zero indica pouca ou nenhuma contribuição.\n",
    "\n",
    "Como interpretar cada componente:\n",
    "\n",
    "**PC-1**: Tem altas cargas (em magnitude) para os Atributos 2, 3, 4, 5 e 6, indicando que esses atributos são importantes para este componente. Os sinais opostos (positivo e negativo) podem indicar correlações inversas entre estes atributos no contexto deste componente.\n",
    "\n",
    "**PC-2**: Mostra cargas significativas e contrárias para os Atributos 4 e 5, e também tem contribuições consideráveis de Atributos 2 e 3.\n",
    "\n",
    "**PC-3**: É dominado pelos Atributos 6 e 7, com contribuições positivas substanciais, indicando que esses atributos variam juntos de forma significativa nesta dimensão.\n",
    "\n",
    "**PC-4 a PC-8**: Cada um destes tem um padrão distinto de contribuições dos atributos, indicando diferentes inter-relações entre os atributos quando vistos através desses componentes."
   ]
  },
  {
   "cell_type": "markdown",
   "id": "11330127",
   "metadata": {},
   "source": [
    "## Escolhendo o Número Ideal de Componentes com Validação Cruzada\n",
    "\n",
    "Usaremos um modelo de regressão logística e verificaremos o desempenho do modelo com diferentes números de componentes.\n",
    "<!-- Projeto Desenvolvido na Data Science Academy - www.datascienceacademy.com.br -->\n",
    "Vamos adcionar uma nova coluna com dois valores possíveis:\n",
    "\n",
    "- 0 indicando que a máquina não precisou de manutenção preditiva (classe negativa).\n",
    "- 1 indicando que a máquina precisou de manutenção preditiva (classe positiva)."
   ]
  },
  {
   "cell_type": "code",
   "execution_count": 21,
   "id": "ab6807b4",
   "metadata": {},
   "outputs": [],
   "source": [
    "# Adicionando a variável target\n",
    "df_dsa['target'] = np.random.randint(0, 2, df_dsa.shape[0])"
   ]
  },
  {
   "cell_type": "code",
   "execution_count": 22,
   "id": "c6b7df80",
   "metadata": {},
   "outputs": [
    {
     "data": {
      "text/html": [
       "<div>\n",
       "<style scoped>\n",
       "    .dataframe tbody tr th:only-of-type {\n",
       "        vertical-align: middle;\n",
       "    }\n",
       "\n",
       "    .dataframe tbody tr th {\n",
       "        vertical-align: top;\n",
       "    }\n",
       "\n",
       "    .dataframe thead th {\n",
       "        text-align: right;\n",
       "    }\n",
       "</style>\n",
       "<table border=\"1\" class=\"dataframe\">\n",
       "  <thead>\n",
       "    <tr style=\"text-align: right;\">\n",
       "      <th></th>\n",
       "      <th>Atributo_1</th>\n",
       "      <th>Atributo_2</th>\n",
       "      <th>Atributo_3</th>\n",
       "      <th>Atributo_4</th>\n",
       "      <th>Atributo_5</th>\n",
       "      <th>Atributo_6</th>\n",
       "      <th>Atributo_7</th>\n",
       "      <th>Atributo_8</th>\n",
       "      <th>target</th>\n",
       "    </tr>\n",
       "  </thead>\n",
       "  <tbody>\n",
       "    <tr>\n",
       "      <th>0</th>\n",
       "      <td>0.496714</td>\n",
       "      <td>-0.138264</td>\n",
       "      <td>0.647689</td>\n",
       "      <td>1.523030</td>\n",
       "      <td>-0.234153</td>\n",
       "      <td>-0.234137</td>\n",
       "      <td>1.579213</td>\n",
       "      <td>0.767435</td>\n",
       "      <td>1</td>\n",
       "    </tr>\n",
       "    <tr>\n",
       "      <th>1</th>\n",
       "      <td>-0.469474</td>\n",
       "      <td>0.542560</td>\n",
       "      <td>-0.463418</td>\n",
       "      <td>-0.465730</td>\n",
       "      <td>0.241962</td>\n",
       "      <td>-1.913280</td>\n",
       "      <td>-1.724918</td>\n",
       "      <td>-0.562288</td>\n",
       "      <td>0</td>\n",
       "    </tr>\n",
       "    <tr>\n",
       "      <th>2</th>\n",
       "      <td>-1.012831</td>\n",
       "      <td>0.314247</td>\n",
       "      <td>-0.908024</td>\n",
       "      <td>-1.412304</td>\n",
       "      <td>1.465649</td>\n",
       "      <td>-0.225776</td>\n",
       "      <td>0.067528</td>\n",
       "      <td>-1.424748</td>\n",
       "      <td>1</td>\n",
       "    </tr>\n",
       "    <tr>\n",
       "      <th>3</th>\n",
       "      <td>-0.544383</td>\n",
       "      <td>0.110923</td>\n",
       "      <td>-1.150994</td>\n",
       "      <td>0.375698</td>\n",
       "      <td>-0.600639</td>\n",
       "      <td>-0.291694</td>\n",
       "      <td>-0.601707</td>\n",
       "      <td>1.852278</td>\n",
       "      <td>1</td>\n",
       "    </tr>\n",
       "    <tr>\n",
       "      <th>4</th>\n",
       "      <td>-0.013497</td>\n",
       "      <td>-1.057711</td>\n",
       "      <td>0.822545</td>\n",
       "      <td>-1.220844</td>\n",
       "      <td>0.208864</td>\n",
       "      <td>-1.959670</td>\n",
       "      <td>-1.328186</td>\n",
       "      <td>0.196861</td>\n",
       "      <td>0</td>\n",
       "    </tr>\n",
       "  </tbody>\n",
       "</table>\n",
       "</div>"
      ],
      "text/plain": [
       "   Atributo_1  Atributo_2  Atributo_3  Atributo_4  Atributo_5  Atributo_6  \\\n",
       "0    0.496714   -0.138264    0.647689    1.523030   -0.234153   -0.234137   \n",
       "1   -0.469474    0.542560   -0.463418   -0.465730    0.241962   -1.913280   \n",
       "2   -1.012831    0.314247   -0.908024   -1.412304    1.465649   -0.225776   \n",
       "3   -0.544383    0.110923   -1.150994    0.375698   -0.600639   -0.291694   \n",
       "4   -0.013497   -1.057711    0.822545   -1.220844    0.208864   -1.959670   \n",
       "\n",
       "   Atributo_7  Atributo_8  target  \n",
       "0    1.579213    0.767435       1  \n",
       "1   -1.724918   -0.562288       0  \n",
       "2    0.067528   -1.424748       1  \n",
       "3   -0.601707    1.852278       1  \n",
       "4   -1.328186    0.196861       0  "
      ]
     },
     "execution_count": 22,
     "metadata": {},
     "output_type": "execute_result"
    }
   ],
   "source": [
    "df_dsa.head()"
   ]
  },
  {
   "cell_type": "code",
   "execution_count": 23,
   "id": "bde2d5b7",
   "metadata": {},
   "outputs": [],
   "source": [
    "scores = []"
   ]
  },
  {
   "cell_type": "code",
   "execution_count": 24,
   "id": "b2a063e8",
   "metadata": {},
   "outputs": [],
   "source": [
    "# Loop sobre o número de componentes do PCA de 1 a 8\n",
    "for i in range(1, 9):\n",
    "    \n",
    "    # Cria um objeto PCA com i componentes\n",
    "    pca = PCA(n_components = i)\n",
    "    \n",
    "    # Ajusta o PCA aos dados escalonados e transforma os dados\n",
    "    pca_data = pca.fit_transform(dados_padronizados)\n",
    "    \n",
    "    # Cria um objeto de regressão logística\n",
    "    lr = LogisticRegression()\n",
    "    \n",
    "    # Avalia a regressão logística usando validação cruzada e calcula a média das pontuações\n",
    "    score = cross_val_score(lr, pca_data, df_dsa['target'], cv = 5).mean()\n",
    "    \n",
    "    # Adiciona a média das pontuações à lista de pontuações\n",
    "    scores.append(score)"
   ]
  },
  {
   "cell_type": "code",
   "execution_count": 25,
   "id": "6d41499b",
   "metadata": {},
   "outputs": [
    {
     "data": {
      "image/png": "[encoded data removed]",
      "text/plain": [
       "<Figure size 640x480 with 1 Axes>"
      ]
     },
     "metadata": {},
     "output_type": "display_data"
    }
   ],
   "source": [
    "# Plot\n",
    "plt.plot(range(1, 9), scores)\n",
    "plt.xlabel('Número de Componentes')\n",
    "plt.ylabel('Desempenho Médio em Validação Cruzada')\n",
    "plt.title('Desempenho vs. Número de Componentes')\n",
    "plt.show()"
   ]
  },
  {
   "cell_type": "markdown",
   "id": "8cf4192e",
   "metadata": {},
   "source": [
    "## LOOCV - Leave One Out Cross-Validation\n",
    "\n",
    "Veja a definição no videobook no Capítulo 16 do curso."
   ]
  },
  {
   "cell_type": "code",
   "execution_count": 26,
   "id": "c6e74b4e",
   "metadata": {},
   "outputs": [
    {
     "data": {
      "text/plain": [
       "1000"
      ]
     },
     "execution_count": 26,
     "metadata": {},
     "output_type": "execute_result"
    }
   ],
   "source": [
    "len(pca_data)"
   ]
  },
  {
   "cell_type": "code",
   "execution_count": 27,
   "id": "2f31279b",
   "metadata": {},
   "outputs": [
    {
     "name": "stdout",
     "output_type": "stream",
     "text": [
      "LOOCV Score: 0.523\n"
     ]
    }
   ],
   "source": [
    "# Aplicando o LOOCV\n",
    "dsa_loo = LeaveOneOut()\n",
    "dsa_lr = LogisticRegression()\n",
    "scores_loo = cross_val_score(dsa_lr, pca_data, df_dsa['target'], cv = dsa_loo)\n",
    "print(f\"LOOCV Score: {scores_loo.mean()}\")"
   ]
  },
  {
   "cell_type": "markdown",
   "id": "2706bc76",
   "metadata": {},
   "source": [
    "Quanto maior o score, melhor!"
   ]
  },
  {
   "cell_type": "markdown",
   "id": "312887e2",
   "metadata": {},
   "source": [
    "## Criando o Modelo Final com os Componentes Principais\n",
    "\n",
    "Aqui, escolhemos o número ideal de componentes com base no gráfico anterior e treinamos nosso modelo com esse número."
   ]
  },
  {
   "cell_type": "code",
   "execution_count": 28,
   "id": "ca13e98f",
   "metadata": {},
   "outputs": [
    {
     "data": {
      "text/html": [
       "<style>#sk-container-id-1 {\n",
       "  /* Definition of color scheme common for light and dark mode */\n",
       "  --sklearn-color-text: black;\n",
       "  --sklearn-color-line: gray;\n",
       "  /* Definition of color scheme for unfitted estimators */\n",
       "  --sklearn-color-unfitted-level-0: #fff5e6;\n",
       "  --sklearn-color-unfitted-level-1: #f6e4d2;\n",
       "  --sklearn-color-unfitted-level-2: #ffe0b3;\n",
       "  --sklearn-color-unfitted-level-3: chocolate;\n",
       "  /* Definition of color scheme for fitted estimators */\n",
       "  --sklearn-color-fitted-level-0: #f0f8ff;\n",
       "  --sklearn-color-fitted-level-1: #d4ebff;\n",
       "  --sklearn-color-fitted-level-2: #b3dbfd;\n",
       "  --sklearn-color-fitted-level-3: cornflowerblue;\n",
       "\n",
       "  /* Specific color for light theme */\n",
       "  --sklearn-color-text-on-default-background: var(--sg-text-color, var(--theme-code-foreground, var(--jp-content-font-color1, black)));\n",
       "  --sklearn-color-background: var(--sg-background-color, var(--theme-background, var(--jp-layout-color0, white)));\n",
       "  --sklearn-color-border-box: var(--sg-text-color, var(--theme-code-foreground, var(--jp-content-font-color1, black)));\n",
       "  --sklearn-color-icon: #696969;\n",
       "\n",
       "  @media (prefers-color-scheme: dark) {\n",
       "    /* Redefinition of color scheme for dark theme */\n",
       "    --sklearn-color-text-on-default-background: var(--sg-text-color, var(--theme-code-foreground, var(--jp-content-font-color1, white)));\n",
       "    --sklearn-color-background: var(--sg-background-color, var(--theme-background, var(--jp-layout-color0, #111)));\n",
       "    --sklearn-color-border-box: var(--sg-text-color, var(--theme-code-foreground, var(--jp-content-font-color1, white)));\n",
       "    --sklearn-color-icon: #878787;\n",
       "  }\n",
       "}\n",
       "\n",
       "#sk-container-id-1 {\n",
       "  color: var(--sklearn-color-text);\n",
       "}\n",
       "\n",
       "#sk-container-id-1 pre {\n",
       "  padding: 0;\n",
       "}\n",
       "\n",
       "#sk-container-id-1 input.sk-hidden--visually {\n",
       "  border: 0;\n",
       "  clip: rect(1px 1px 1px 1px);\n",
       "  clip: rect(1px, 1px, 1px, 1px);\n",
       "  height: 1px;\n",
       "  margin: -1px;\n",
       "  overflow: hidden;\n",
       "  padding: 0;\n",
       "  position: absolute;\n",
       "  width: 1px;\n",
       "}\n",
       "\n",
       "#sk-container-id-1 div.sk-dashed-wrapped {\n",
       "  border: 1px dashed var(--sklearn-color-line);\n",
       "  margin: 0 0.4em 0.5em 0.4em;\n",
       "  box-sizing: border-box;\n",
       "  padding-bottom: 0.4em;\n",
       "  background-color: var(--sklearn-color-background);\n",
       "}\n",
       "\n",
       "#sk-container-id-1 div.sk-container {\n",
       "  /* jupyter's `normalize.less` sets `[hidden] { display: none; }`\n",
       "     but bootstrap.min.css set `[hidden] { display: none !important; }`\n",
       "     so we also need the `!important` here to be able to override the\n",
       "     default hidden behavior on the sphinx rendered scikit-learn.org.\n",
       "     See: https://github.com/scikit-learn/scikit-learn/issues/21755 */\n",
       "  display: inline-block !important;\n",
       "  position: relative;\n",
       "}\n",
       "\n",
       "#sk-container-id-1 div.sk-text-repr-fallback {\n",
       "  display: none;\n",
       "}\n",
       "\n",
       "div.sk-parallel-item,\n",
       "div.sk-serial,\n",
       "div.sk-item {\n",
       "  /* draw centered vertical line to link estimators */\n",
       "  background-image: linear-gradient(var(--sklearn-color-text-on-default-background), var(--sklearn-color-text-on-default-background));\n",
       "  background-size: 2px 100%;\n",
       "  background-repeat: no-repeat;\n",
       "  background-position: center center;\n",
       "}\n",
       "\n",
       "/* Parallel-specific style estimator block */\n",
       "\n",
       "#sk-container-id-1 div.sk-parallel-item::after {\n",
       "  content: \"\";\n",
       "  width: 100%;\n",
       "  border-bottom: 2px solid var(--sklearn-color-text-on-default-background);\n",
       "  flex-grow: 1;\n",
       "}\n",
       "\n",
       "#sk-container-id-1 div.sk-parallel {\n",
       "  display: flex;\n",
       "  align-items: stretch;\n",
       "  justify-content: center;\n",
       "  background-color: var(--sklearn-color-background);\n",
       "  position: relative;\n",
       "}\n",
       "\n",
       "#sk-container-id-1 div.sk-parallel-item {\n",
       "  display: flex;\n",
       "  flex-direction: column;\n",
       "}\n",
       "\n",
       "#sk-container-id-1 div.sk-parallel-item:first-child::after {\n",
       "  align-self: flex-end;\n",
       "  width: 50%;\n",
       "}\n",
       "\n",
       "#sk-container-id-1 div.sk-parallel-item:last-child::after {\n",
       "  align-self: flex-start;\n",
       "  width: 50%;\n",
       "}\n",
       "\n",
       "#sk-container-id-1 div.sk-parallel-item:only-child::after {\n",
       "  width: 0;\n",
       "}\n",
       "\n",
       "/* Serial-specific style estimator block */\n",
       "\n",
       "#sk-container-id-1 div.sk-serial {\n",
       "  display: flex;\n",
       "  flex-direction: column;\n",
       "  align-items: center;\n",
       "  background-color: var(--sklearn-color-background);\n",
       "  padding-right: 1em;\n",
       "  padding-left: 1em;\n",
       "}\n",
       "\n",
       "\n",
       "/* Toggleable style: style used for estimator/Pipeline/ColumnTransformer box that is\n",
       "clickable and can be expanded/collapsed.\n",
       "- Pipeline and ColumnTransformer use this feature and define the default style\n",
       "- Estimators will overwrite some part of the style using the `sk-estimator` class\n",
       "*/\n",
       "\n",
       "/* Pipeline and ColumnTransformer style (default) */\n",
       "\n",
       "#sk-container-id-1 div.sk-toggleable {\n",
       "  /* Default theme specific background. It is overwritten whether we have a\n",
       "  specific estimator or a Pipeline/ColumnTransformer */\n",
       "  background-color: var(--sklearn-color-background);\n",
       "}\n",
       "\n",
       "/* Toggleable label */\n",
       "#sk-container-id-1 label.sk-toggleable__label {\n",
       "  cursor: pointer;\n",
       "  display: block;\n",
       "  width: 100%;\n",
       "  margin-bottom: 0;\n",
       "  padding: 0.5em;\n",
       "  box-sizing: border-box;\n",
       "  text-align: center;\n",
       "}\n",
       "\n",
       "#sk-container-id-1 label.sk-toggleable__label-arrow:before {\n",
       "  /* Arrow on the left of the label */\n",
       "  content: \"▸\";\n",
       "  float: left;\n",
       "  margin-right: 0.25em;\n",
       "  color: var(--sklearn-color-icon);\n",
       "}\n",
       "\n",
       "#sk-container-id-1 label.sk-toggleable__label-arrow:hover:before {\n",
       "  color: var(--sklearn-color-text);\n",
       "}\n",
       "\n",
       "/* Toggleable content - dropdown */\n",
       "\n",
       "#sk-container-id-1 div.sk-toggleable__content {\n",
       "  max-height: 0;\n",
       "  max-width: 0;\n",
       "  overflow: hidden;\n",
       "  text-align: left;\n",
       "  /* unfitted */\n",
       "  background-color: var(--sklearn-color-unfitted-level-0);\n",
       "}\n",
       "\n",
       "#sk-container-id-1 div.sk-toggleable__content.fitted {\n",
       "  /* fitted */\n",
       "  background-color: var(--sklearn-color-fitted-level-0);\n",
       "}\n",
       "\n",
       "#sk-container-id-1 div.sk-toggleable__content pre {\n",
       "  margin: 0.2em;\n",
       "  border-radius: 0.25em;\n",
       "  color: var(--sklearn-color-text);\n",
       "  /* unfitted */\n",
       "  background-color: var(--sklearn-color-unfitted-level-0);\n",
       "}\n",
       "\n",
       "#sk-container-id-1 div.sk-toggleable__content.fitted pre {\n",
       "  /* unfitted */\n",
       "  background-color: var(--sklearn-color-fitted-level-0);\n",
       "}\n",
       "\n",
       "#sk-container-id-1 input.sk-toggleable__control:checked~div.sk-toggleable__content {\n",
       "  /* Expand drop-down */\n",
       "  max-height: 200px;\n",
       "  max-width: 100%;\n",
       "  overflow: auto;\n",
       "}\n",
       "\n",
       "#sk-container-id-1 input.sk-toggleable__control:checked~label.sk-toggleable__label-arrow:before {\n",
       "  content: \"▾\";\n",
       "}\n",
       "\n",
       "/* Pipeline/ColumnTransformer-specific style */\n",
       "\n",
       "#sk-container-id-1 div.sk-label input.sk-toggleable__control:checked~label.sk-toggleable__label {\n",
       "  color: var(--sklearn-color-text);\n",
       "  background-color: var(--sklearn-color-unfitted-level-2);\n",
       "}\n",
       "\n",
       "#sk-container-id-1 div.sk-label.fitted input.sk-toggleable__control:checked~label.sk-toggleable__label {\n",
       "  background-color: var(--sklearn-color-fitted-level-2);\n",
       "}\n",
       "\n",
       "/* Estimator-specific style */\n",
       "\n",
       "/* Colorize estimator box */\n",
       "#sk-container-id-1 div.sk-estimator input.sk-toggleable__control:checked~label.sk-toggleable__label {\n",
       "  /* unfitted */\n",
       "  background-color: var(--sklearn-color-unfitted-level-2);\n",
       "}\n",
       "\n",
       "#sk-container-id-1 div.sk-estimator.fitted input.sk-toggleable__control:checked~label.sk-toggleable__label {\n",
       "  /* fitted */\n",
       "  background-color: var(--sklearn-color-fitted-level-2);\n",
       "}\n",
       "\n",
       "#sk-container-id-1 div.sk-label label.sk-toggleable__label,\n",
       "#sk-container-id-1 div.sk-label label {\n",
       "  /* The background is the default theme color */\n",
       "  color: var(--sklearn-color-text-on-default-background);\n",
       "}\n",
       "\n",
       "/* On hover, darken the color of the background */\n",
       "#sk-container-id-1 div.sk-label:hover label.sk-toggleable__label {\n",
       "  color: var(--sklearn-color-text);\n",
       "  background-color: var(--sklearn-color-unfitted-level-2);\n",
       "}\n",
       "\n",
       "/* Label box, darken color on hover, fitted */\n",
       "#sk-container-id-1 div.sk-label.fitted:hover label.sk-toggleable__label.fitted {\n",
       "  color: var(--sklearn-color-text);\n",
       "  background-color: var(--sklearn-color-fitted-level-2);\n",
       "}\n",
       "\n",
       "/* Estimator label */\n",
       "\n",
       "#sk-container-id-1 div.sk-label label {\n",
       "  font-family: monospace;\n",
       "  font-weight: bold;\n",
       "  display: inline-block;\n",
       "  line-height: 1.2em;\n",
       "}\n",
       "\n",
       "#sk-container-id-1 div.sk-label-container {\n",
       "  text-align: center;\n",
       "}\n",
       "\n",
       "/* Estimator-specific */\n",
       "#sk-container-id-1 div.sk-estimator {\n",
       "  font-family: monospace;\n",
       "  border: 1px dotted var(--sklearn-color-border-box);\n",
       "  border-radius: 0.25em;\n",
       "  box-sizing: border-box;\n",
       "  margin-bottom: 0.5em;\n",
       "  /* unfitted */\n",
       "  background-color: var(--sklearn-color-unfitted-level-0);\n",
       "}\n",
       "\n",
       "#sk-container-id-1 div.sk-estimator.fitted {\n",
       "  /* fitted */\n",
       "  background-color: var(--sklearn-color-fitted-level-0);\n",
       "}\n",
       "\n",
       "/* on hover */\n",
       "#sk-container-id-1 div.sk-estimator:hover {\n",
       "  /* unfitted */\n",
       "  background-color: var(--sklearn-color-unfitted-level-2);\n",
       "}\n",
       "\n",
       "#sk-container-id-1 div.sk-estimator.fitted:hover {\n",
       "  /* fitted */\n",
       "  background-color: var(--sklearn-color-fitted-level-2);\n",
       "}\n",
       "\n",
       "/* Specification for estimator info (e.g. \"i\" and \"?\") */\n",
       "\n",
       "/* Common style for \"i\" and \"?\" */\n",
       "\n",
       ".sk-estimator-doc-link,\n",
       "a:link.sk-estimator-doc-link,\n",
       "a:visited.sk-estimator-doc-link {\n",
       "  float: right;\n",
       "  font-size: smaller;\n",
       "  line-height: 1em;\n",
       "  font-family: monospace;\n",
       "  background-color: var(--sklearn-color-background);\n",
       "  border-radius: 1em;\n",
       "  height: 1em;\n",
       "  width: 1em;\n",
       "  text-decoration: none !important;\n",
       "  margin-left: 1ex;\n",
       "  /* unfitted */\n",
       "  border: var(--sklearn-color-unfitted-level-1) 1pt solid;\n",
       "  color: var(--sklearn-color-unfitted-level-1);\n",
       "}\n",
       "\n",
       ".sk-estimator-doc-link.fitted,\n",
       "a:link.sk-estimator-doc-link.fitted,\n",
       "a:visited.sk-estimator-doc-link.fitted {\n",
       "  /* fitted */\n",
       "  border: var(--sklearn-color-fitted-level-1) 1pt solid;\n",
       "  color: var(--sklearn-color-fitted-level-1);\n",
       "}\n",
       "\n",
       "/* On hover */\n",
       "div.sk-estimator:hover .sk-estimator-doc-link:hover,\n",
       ".sk-estimator-doc-link:hover,\n",
       "div.sk-label-container:hover .sk-estimator-doc-link:hover,\n",
       ".sk-estimator-doc-link:hover {\n",
       "  /* unfitted */\n",
       "  background-color: var(--sklearn-color-unfitted-level-3);\n",
       "  color: var(--sklearn-color-background);\n",
       "  text-decoration: none;\n",
       "}\n",
       "\n",
       "div.sk-estimator.fitted:hover .sk-estimator-doc-link.fitted:hover,\n",
       ".sk-estimator-doc-link.fitted:hover,\n",
       "div.sk-label-container:hover .sk-estimator-doc-link.fitted:hover,\n",
       ".sk-estimator-doc-link.fitted:hover {\n",
       "  /* fitted */\n",
       "  background-color: var(--sklearn-color-fitted-level-3);\n",
       "  color: var(--sklearn-color-background);\n",
       "  text-decoration: none;\n",
       "}\n",
       "\n",
       "/* Span, style for the box shown on hovering the info icon */\n",
       ".sk-estimator-doc-link span {\n",
       "  display: none;\n",
       "  z-index: 9999;\n",
       "  position: relative;\n",
       "  font-weight: normal;\n",
       "  right: .2ex;\n",
       "  padding: .5ex;\n",
       "  margin: .5ex;\n",
       "  width: min-content;\n",
       "  min-width: 20ex;\n",
       "  max-width: 50ex;\n",
       "  color: var(--sklearn-color-text);\n",
       "  box-shadow: 2pt 2pt 4pt #999;\n",
       "  /* unfitted */\n",
       "  background: var(--sklearn-color-unfitted-level-0);\n",
       "  border: .5pt solid var(--sklearn-color-unfitted-level-3);\n",
       "}\n",
       "\n",
       ".sk-estimator-doc-link.fitted span {\n",
       "  /* fitted */\n",
       "  background: var(--sklearn-color-fitted-level-0);\n",
       "  border: var(--sklearn-color-fitted-level-3);\n",
       "}\n",
       "\n",
       ".sk-estimator-doc-link:hover span {\n",
       "  display: block;\n",
       "}\n",
       "\n",
       "/* \"?\"-specific style due to the `<a>` HTML tag */\n",
       "\n",
       "#sk-container-id-1 a.estimator_doc_link {\n",
       "  float: right;\n",
       "  font-size: 1rem;\n",
       "  line-height: 1em;\n",
       "  font-family: monospace;\n",
       "  background-color: var(--sklearn-color-background);\n",
       "  border-radius: 1rem;\n",
       "  height: 1rem;\n",
       "  width: 1rem;\n",
       "  text-decoration: none;\n",
       "  /* unfitted */\n",
       "  color: var(--sklearn-color-unfitted-level-1);\n",
       "  border: var(--sklearn-color-unfitted-level-1) 1pt solid;\n",
       "}\n",
       "\n",
       "#sk-container-id-1 a.estimator_doc_link.fitted {\n",
       "  /* fitted */\n",
       "  border: var(--sklearn-color-fitted-level-1) 1pt solid;\n",
       "  color: var(--sklearn-color-fitted-level-1);\n",
       "}\n",
       "\n",
       "/* On hover */\n",
       "#sk-container-id-1 a.estimator_doc_link:hover {\n",
       "  /* unfitted */\n",
       "  background-color: var(--sklearn-color-unfitted-level-3);\n",
       "  color: var(--sklearn-color-background);\n",
       "  text-decoration: none;\n",
       "}\n",
       "\n",
       "#sk-container-id-1 a.estimator_doc_link.fitted:hover {\n",
       "  /* fitted */\n",
       "  background-color: var(--sklearn-color-fitted-level-3);\n",
       "}\n",
       "</style><div id=\"sk-container-id-1\" class=\"sk-top-container\"><div class=\"sk-text-repr-fallback\"><pre>LogisticRegression()</pre><b>In a Jupyter environment, please rerun this cell to show the HTML representation or trust the notebook. <br />On GitHub, the HTML representation is unable to render, please try loading this page with nbviewer.org.</b></div><div class=\"sk-container\" hidden><div class=\"sk-item\"><div class=\"sk-estimator fitted sk-toggleable\"><input class=\"sk-toggleable__control sk-hidden--visually\" id=\"sk-estimator-id-1\" type=\"checkbox\" checked><label for=\"sk-estimator-id-1\" class=\"sk-toggleable__label fitted sk-toggleable__label-arrow fitted\">&nbsp;&nbsp;LogisticRegression<a class=\"sk-estimator-doc-link fitted\" rel=\"noreferrer\" target=\"_blank\" href=\"https://scikit-learn.org/1.4/modules/generated/sklearn.linear_model.LogisticRegression.html\">?<span>Documentation for LogisticRegression</span></a><span class=\"sk-estimator-doc-link fitted\">i<span>Fitted</span></span></label><div class=\"sk-toggleable__content fitted\"><pre>LogisticRegression()</pre></div> </div></div></div></div>"
      ],
      "text/plain": [
       "LogisticRegression()"
      ]
     },
     "execution_count": 28,
     "metadata": {},
     "output_type": "execute_result"
    }
   ],
   "source": [
    "# Considerando que 6 é o número ideal de componentes\n",
    "pca_final = PCA(n_components = 6)\n",
    "pca_data_final = pca_final.fit_transform(dados_padronizados)\n",
    "modelo_dsa_lr_final = LogisticRegression()\n",
    "modelo_dsa_lr_final.fit(pca_data_final, df_dsa['target'])"
   ]
  },
  {
   "cell_type": "code",
   "execution_count": 29,
   "id": "2b61536a",
   "metadata": {},
   "outputs": [],
   "source": [
    "# Simulando novos dados de sensores de uma máquina industrial\n",
    "novos_dados_sensores = np.random.randn(1, 8)"
   ]
  },
  {
   "cell_type": "code",
   "execution_count": 30,
   "id": "06eae7a8",
   "metadata": {},
   "outputs": [
    {
     "data": {
      "text/plain": [
       "array([[ 0.63122436, -1.15122666,  1.1049972 , -0.37753115,  1.25761311,\n",
       "        -0.53345245, -1.02662548, -0.45813699]])"
      ]
     },
     "execution_count": 30,
     "metadata": {},
     "output_type": "execute_result"
    }
   ],
   "source": [
    "novos_dados_sensores"
   ]
  },
  {
   "cell_type": "code",
   "execution_count": 31,
   "id": "336e3159",
   "metadata": {},
   "outputs": [],
   "source": [
    "# Padroniza os dados de entrada\n",
    "novos_dados_padronizados = dsa_scaler.transform(novos_dados_sensores)"
   ]
  },
  {
   "cell_type": "code",
   "execution_count": 32,
   "id": "34d016fe",
   "metadata": {},
   "outputs": [],
   "source": [
    "# Aplica o PCA\n",
    "pca_new_data = pca_final.transform(novos_dados_padronizados)"
   ]
  },
  {
   "cell_type": "code",
   "execution_count": 33,
   "id": "e5240e6d",
   "metadata": {},
   "outputs": [
    {
     "name": "stdout",
     "output_type": "stream",
     "text": [
      "[1]\n"
     ]
    }
   ],
   "source": [
    "# Previsão com novos dados\n",
    "previsao = modelo_dsa_lr_final.predict(pca_new_data)\n",
    "print(previsao)"
   ]
  },
  {
   "cell_type": "markdown",
   "id": "7a8f0582",
   "metadata": {},
   "source": [
    "De acordo com os dados de entrada essa máquina precisa de mantenção preventiva."
   ]
  },
  {
   "cell_type": "code",
   "execution_count": 34,
   "id": "93640bbf",
   "metadata": {},
   "outputs": [
    {
     "name": "stdout",
     "output_type": "stream",
     "text": [
      "Author: Data Science Academy\n",
      "\n"
     ]
    }
   ],
   "source": [
    "%reload_ext watermark\n",
    "%watermark -a \"Data Science Academy\""
   ]
  },
  {
   "cell_type": "code",
   "execution_count": 35,
   "id": "c4ef94cf",
   "metadata": {},
   "outputs": [],
   "source": [
    "#%watermark -v -m"
   ]
  },
  {
   "cell_type": "code",
   "execution_count": 36,
   "id": "a9fe54c8",
   "metadata": {},
   "outputs": [],
   "source": [
    "#%watermark --iversions"
   ]
  },
  {
   "cell_type": "markdown",
   "id": "349e1f1e",
   "metadata": {},
   "source": [
    "# Fim"
   ]
  }
 ],
 "metadata": {
  "kernelspec": {
   "display_name": "Python 3 (ipykernel)",
   "language": "python",
   "name": "python3"
  },
  "language_info": {
   "codemirror_mode": {
    "name": "ipython",
    "version": 3
   },
   "file_extension": ".py",
   "mimetype": "text/x-python",
   "name": "python",
   "nbconvert_exporter": "python",
   "pygments_lexer": "ipython3",
   "version": "3.11.5"
  }
 },
 "nbformat": 4,
 "nbformat_minor": 5
}
